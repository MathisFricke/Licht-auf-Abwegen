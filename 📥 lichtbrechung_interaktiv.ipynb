{
 "cells": [
  {
   "cell_type": "markdown",
   "id": "f4a35374",
   "metadata": {},
   "source": [
    "# Licht auf Abwegen: Interaktive Simulation der Lichtbrechung\n",
    "\n",
    "In diesem Notebook untersuchen wir das Prinzip der minimalen Laufzeit, das zur Lichtbrechung führt. Durch Veränderung der Parameter kannst du beobachten, wie sich der Weg des Lichts verändert.\n",
    "\n",
    "---\n",
    "\n",
    "## 🔧 Parametersteuerung\n",
    "Verändere die Werte der Parameter unten und beobachte, wie sich die Laufzeit und der Lichtweg verändern.\n"
   ]
  },
  {
   "cell_type": "code",
   "execution_count": 3,
   "id": "2e394611",
   "metadata": {},
   "outputs": [
    {
     "data": {
      "application/vnd.jupyter.widget-view+json": {
       "model_id": "d1f533438c504b93ad71103adc451595",
       "version_major": 2,
       "version_minor": 0
      },
      "text/plain": [
       "interactive(children=(FloatSlider(value=1.0, description='n1', max=20.0, min=1.0, step=0.05), FloatSlider(valu…"
      ]
     },
     "metadata": {},
     "output_type": "display_data"
    }
   ],
   "source": [
    "import numpy as np\n",
    "import matplotlib.pyplot as plt\n",
    "from scipy.optimize import minimize_scalar\n",
    "import ipywidgets as widgets\n",
    "from IPython.display import display\n",
    "\n",
    "def gesamte_laufzeit(y_stern, n1, n2, D, x_z, y_z):\n",
    "    L1 = np.sqrt(D**2 + y_stern**2)\n",
    "    L2 = np.sqrt((x_z - D)**2 + (y_z - y_stern)**2)\n",
    "    return n1 * L1 + n2 * L2\n",
    "\n",
    "def plot_simulation(n1=1.0, n2=1.5, D=3.0, x_z=6.0, y_z=4.0):\n",
    "    y_stern_werte = np.linspace(0, y_z, 500)\n",
    "    laufzeiten = [gesamte_laufzeit(y, n1, n2, D, x_z, y_z) for y in y_stern_werte]\n",
    "\n",
    "    result = minimize_scalar(lambda y: gesamte_laufzeit(y, n1, n2, D, x_z, y_z),\n",
    "                             bounds=(0, y_z), method='bounded')\n",
    "    optimal_y = result.x\n",
    "\n",
    "    fig, ax = plt.subplots(1, 2, figsize=(12, 5))\n",
    "\n",
    "    # Plot 1: Laufzeit\n",
    "    ax[0].plot(y_stern_werte, laufzeiten, label=\"T(y*)\")\n",
    "    ax[0].axvline(optimal_y, color='red', linestyle='--', label=f\"Optimum: y* ≈ {optimal_y:.2f}\")\n",
    "    ax[0].set_title(\"Gesamtlaufzeit T(y*)\")\n",
    "    ax[0].set_xlabel(\"y*\")\n",
    "    ax[0].set_ylabel(\"T\")\n",
    "    ax[0].legend()\n",
    "    ax[0].grid()\n",
    "\n",
    "    # Plot 2: Strahlengang\n",
    "    ax[1].plot([0, D, x_z], [0, optimal_y, y_z], marker='o', label=\"Strahlengang\", color='blue')\n",
    "    ax[1].plot([0, x_z], [0, y_z], linestyle='--', label='Direktverbindung', color='gray')\n",
    "    ax[1].axvline(x=D, color='black', linestyle='--', label='Grenze x = D')\n",
    "    ax[1].set_title(\"Strahlengang\")\n",
    "    ax[1].set_xlabel(\"x\")\n",
    "    ax[1].set_ylabel(\"y\")\n",
    "    ax[1].legend()\n",
    "    ax[1].grid()\n",
    "\n",
    "    plt.tight_layout()\n",
    "    plt.show()\n",
    "\n",
    "# Interaktive Steuerung\n",
    "widgets.interact(\n",
    "    plot_simulation,\n",
    "    n1=widgets.FloatSlider(value=1.0, min=1.0, max=20.0, step=0.05, description='n1'),\n",
    "    n2=widgets.FloatSlider(value=1.5, min=1.0, max=20.0, step=0.05, description='n2'),\n",
    "    D=widgets.FloatSlider(value=3.0, min=1.0, max=5.0, step=0.1, description='D'),\n",
    "    x_z=widgets.FloatSlider(value=6.0, min=3.0, max=10.0, step=0.1, description='x_z'),\n",
    "    y_z=widgets.FloatSlider(value=4.0, min=1.0, max=6.0, step=0.1, description='y_z')\n",
    ");\n"
   ]
  },
  {
   "cell_type": "code",
   "execution_count": null,
   "id": "1bd1814a-b24a-4799-9624-96c3315b4d99",
   "metadata": {},
   "outputs": [],
   "source": []
  }
 ],
 "metadata": {
  "kernelspec": {
   "display_name": "Python 3 (ipykernel)",
   "language": "python",
   "name": "python3"
  },
  "language_info": {
   "codemirror_mode": {
    "name": "ipython",
    "version": 3
   },
   "file_extension": ".py",
   "mimetype": "text/x-python",
   "name": "python",
   "nbconvert_exporter": "python",
   "pygments_lexer": "ipython3",
   "version": "3.13.5"
  }
 },
 "nbformat": 4,
 "nbformat_minor": 5
}
